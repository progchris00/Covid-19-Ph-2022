{
 "cells": [
  {
   "cell_type": "markdown",
   "metadata": {},
   "source": [
    "# Data Analysis of Covid-19 in the Philippines for the Year 2022\n",
    "\n",
    "In this data analysis project, we will be examining the impact of COVID-19 in the Philippines in the year 2022. Using a data from https://ourworldindata.org/coronavirus/country/philippines#citation, we will investigate how the virus has affected various aspects of life in the country. The goal of this project is to provide a comprehensive understanding of the impact of COVID-19 in the Philippines and to inform policy decisions for addressing the ongoing pandemic. \n",
    "\n",
    "<b> Author: </b> Christian P. Ortiz\n",
    "\n",
    "<b><u> Note: This project is also part of the course [Data Analysis with Python: Zero to Pandas](zerotopandas.com), and also a way for the author to showcase the knowledge he gained from the course. </b></u>"
   ]
  },
  {
   "cell_type": "markdown",
   "metadata": {},
   "source": [
    "## Importing the required libraries that will be use in this analysis."
   ]
  },
  {
   "cell_type": "code",
   "execution_count": 8,
   "metadata": {
    "scrolled": true
   },
   "outputs": [],
   "source": [
    "import pandas as pd\n",
    "from matplotlib import pyplot as plt"
   ]
  },
  {
   "cell_type": "markdown",
   "metadata": {},
   "source": [
    "## Downloading the Dataset\n",
    "\n",
    "In order to analyze and use the data, we will import the dataset we downloaded from https://ourworldindata.org/ into our notebook in this section. "
   ]
  },
  {
   "cell_type": "markdown",
   "metadata": {},
   "source": [
    "Let's begin by importing the data."
   ]
  },
  {
   "cell_type": "code",
   "execution_count": 9,
   "metadata": {
    "scrolled": true
   },
   "outputs": [],
   "source": [
    "covid_df = pd.read_csv('covid-ph.csv')"
   ]
  },
  {
   "cell_type": "markdown",
   "metadata": {},
   "source": [
    "Let us save and upload our work to Jovian before continuing."
   ]
  },
  {
   "cell_type": "code",
   "execution_count": 10,
   "metadata": {
    "scrolled": true
   },
   "outputs": [],
   "source": [
    "project_name = \"Covid-19 Report in the Philippines in year 2022\""
   ]
  },
  {
   "cell_type": "code",
   "execution_count": 11,
   "metadata": {
    "scrolled": true
   },
   "outputs": [],
   "source": [
    "!pip install jovian --upgrade -q"
   ]
  },
  {
   "cell_type": "code",
   "execution_count": 12,
   "metadata": {
    "scrolled": true
   },
   "outputs": [],
   "source": [
    "import jovian"
   ]
  },
  {
   "cell_type": "code",
   "execution_count": 39,
   "metadata": {
    "scrolled": false
   },
   "outputs": [
    {
     "data": {
      "application/javascript": [
       "window.require && require([\"base/js/namespace\"],function(Jupyter){Jupyter.notebook.save_checkpoint()})"
      ],
      "text/plain": [
       "<IPython.core.display.Javascript object>"
      ]
     },
     "metadata": {},
     "output_type": "display_data"
    },
    {
     "name": "stdout",
     "output_type": "stream",
     "text": [
      "[jovian] Updating notebook \"chris-ortiz/covid-19-report-in-the-philippines-in-year-2022\" on https://jovian.com\u001b[0m\n",
      "[jovian] Committed successfully! https://jovian.com/chris-ortiz/covid-19-report-in-the-philippines-in-year-2022\u001b[0m\n"
     ]
    },
    {
     "data": {
      "text/plain": [
       "'https://jovian.com/chris-ortiz/covid-19-report-in-the-philippines-in-year-2022'"
      ]
     },
     "execution_count": 39,
     "metadata": {},
     "output_type": "execute_result"
    }
   ],
   "source": [
    "jovian.commit(project=project_name)"
   ]
  },
  {
   "cell_type": "markdown",
   "metadata": {},
   "source": [
    "## Data Preparation and Cleaning\n",
    "\n",
    "In this section, we will clean the data we imported and prepare it for analyzing. First, let us convert the \"date\" column from object to datetime to inform python that this particular column contains date."
   ]
  },
  {
   "cell_type": "code",
   "execution_count": 16,
   "metadata": {
    "scrolled": false
   },
   "outputs": [],
   "source": [
    "covid_df['date'] = pd.to_datetime(covid_df.date)"
   ]
  },
  {
   "cell_type": "markdown",
   "metadata": {},
   "source": [
    "Next is, seperating the date into 4 columns to have a wider access to data."
   ]
  },
  {
   "cell_type": "code",
   "execution_count": 17,
   "metadata": {
    "scrolled": true
   },
   "outputs": [],
   "source": [
    "covid_df['year'] = pd.DatetimeIndex(covid_df.date).year\n",
    "covid_df['month'] = pd.DatetimeIndex(covid_df.date).month\n",
    "covid_df['day'] = pd.DatetimeIndex(covid_df.date).day\n",
    "covid_df['weekday'] = pd.DatetimeIndex(covid_df.date).weekday"
   ]
  },
  {
   "cell_type": "markdown",
   "metadata": {},
   "source": [
    "## Filtering data"
   ]
  },
  {
   "cell_type": "markdown",
   "metadata": {},
   "source": [
    "First, we will filter the data base on location as we only want to focus on the country Philippines."
   ]
  },
  {
   "cell_type": "code",
   "execution_count": 18,
   "metadata": {
    "scrolled": true
   },
   "outputs": [],
   "source": [
    "ph_df = covid_df.loc[(covid_df['location'] == 'Philippines')]"
   ]
  },
  {
   "cell_type": "markdown",
   "metadata": {},
   "source": [
    "Next is fltering the data base on year as we only want the data from year 2022."
   ]
  },
  {
   "cell_type": "code",
   "execution_count": 19,
   "metadata": {
    "scrolled": false
   },
   "outputs": [],
   "source": [
    "ph_df = ph_df.loc[(ph_df['year'] == 2022)]"
   ]
  },
  {
   "cell_type": "code",
   "execution_count": 20,
   "metadata": {
    "scrolled": true
   },
   "outputs": [],
   "source": [
    "ph_df.dropna(axis=1, how='all', inplace=True)"
   ]
  },
  {
   "cell_type": "markdown",
   "metadata": {},
   "source": [
    "Now, from 250,000 rows and 71 columns, we are down to 365 rows only and 62 columns. This is possible by filtering the data and dropping rows with missing values. We are now ready to analyze and visualize the data."
   ]
  },
  {
   "cell_type": "code",
   "execution_count": 21,
   "metadata": {
    "scrolled": true
   },
   "outputs": [],
   "source": [
    "import jovian"
   ]
  },
  {
   "cell_type": "code",
   "execution_count": 22,
   "metadata": {
    "scrolled": true
   },
   "outputs": [
    {
     "data": {
      "application/javascript": [
       "window.require && require([\"base/js/namespace\"],function(Jupyter){Jupyter.notebook.save_checkpoint()})"
      ],
      "text/plain": [
       "<IPython.core.display.Javascript object>"
      ]
     },
     "metadata": {},
     "output_type": "display_data"
    },
    {
     "name": "stdout",
     "output_type": "stream",
     "text": [
      "[jovian] Updating notebook \"chris-ortiz/covid-19-report-in-the-philippines-in-year-2022\" on https://jovian.com\u001b[0m\n",
      "[jovian] Committed successfully! https://jovian.com/chris-ortiz/covid-19-report-in-the-philippines-in-year-2022\u001b[0m\n"
     ]
    },
    {
     "data": {
      "text/plain": [
       "'https://jovian.com/chris-ortiz/covid-19-report-in-the-philippines-in-year-2022'"
      ]
     },
     "execution_count": 22,
     "metadata": {},
     "output_type": "execute_result"
    }
   ],
   "source": [
    "jovian.commit()"
   ]
  },
  {
   "cell_type": "markdown",
   "metadata": {},
   "source": [
    "## Exploratory Analysis and Visualization\n",
    "\n",
    "In this section, we will start to analyze and visualize the data to get meaningful insights from it.\n",
    "\n"
   ]
  },
  {
   "cell_type": "markdown",
   "metadata": {},
   "source": [
    "Let's begin by importing`matplotlib.pyplot` and `seaborn`."
   ]
  },
  {
   "cell_type": "code",
   "execution_count": 23,
   "metadata": {
    "scrolled": true
   },
   "outputs": [],
   "source": [
    "import seaborn as sns\n",
    "import matplotlib\n",
    "import matplotlib.pyplot as plt\n",
    "%matplotlib inline\n",
    "\n",
    "sns.set_style('darkgrid')\n",
    "matplotlib.rcParams['font.size'] = 14\n",
    "matplotlib.rcParams['figure.figsize'] = (9, 5)\n",
    "matplotlib.rcParams['figure.facecolor'] = '#00000000'"
   ]
  },
  {
   "cell_type": "markdown",
   "metadata": {},
   "source": [
    "## First, let us see the trend of Covid-19 for the whole year of 2022"
   ]
  },
  {
   "cell_type": "code",
   "execution_count": 24,
   "metadata": {
    "scrolled": true
   },
   "outputs": [
    {
     "data": {
      "image/png": "[encoded data removed]",
      "text/plain": [
       "<Figure size 648x360 with 1 Axes>"
      ]
     },
     "metadata": {
      "needs_background": "light"
     },
     "output_type": "display_data"
    }
   ],
   "source": [
    "label = ph_df['date']\n",
    "value= ph_df['new_cases']\n",
    "plt.plot(label, value)\n",
    "plt.title('Covid-19 New cases (2022)');"
   ]
  },
  {
   "cell_type": "markdown",
   "metadata": {},
   "source": [
    "We can see that new cases reaches its peak around January to February and slowly fall down and flat around March to May."
   ]
  },
  {
   "cell_type": "markdown",
   "metadata": {},
   "source": [
    "## Now, let us compare it to the new deaths and plot it in the same graph."
   ]
  },
  {
   "cell_type": "code",
   "execution_count": 25,
   "metadata": {
    "scrolled": true
   },
   "outputs": [
    {
     "data": {
      "image/png": "[encoded data removed]",
      "text/plain": [
       "<Figure size 648x360 with 1 Axes>"
      ]
     },
     "metadata": {
      "needs_background": "light"
     },
     "output_type": "display_data"
    }
   ],
   "source": [
    "label = ph_df['date']\n",
    "new_cases = ph_df['new_cases']\n",
    "new_deaths = ph_df['new_deaths']\n",
    "plt.plot(label, new_cases)\n",
    "plt.plot(label, new_deaths)\n",
    "plt.title('Comparison of Covid-19 new cases and new deaths');"
   ]
  },
  {
   "cell_type": "markdown",
   "metadata": {},
   "source": [
    "In this graph, we can see that the new cases doesn't affect new deaths a lot as it stays flat even though new cases climb to its peak."
   ]
  },
  {
   "cell_type": "markdown",
   "metadata": {},
   "source": [
    "## Now, let us look at the total cases per month in a more detailed way using bar graph."
   ]
  },
  {
   "cell_type": "code",
   "execution_count": 26,
   "metadata": {
    "scrolled": true
   },
   "outputs": [],
   "source": [
    "per_month = ph_df.groupby(['month']).sum()"
   ]
  },
  {
   "cell_type": "code",
   "execution_count": 27,
   "metadata": {
    "scrolled": true
   },
   "outputs": [
    {
     "data": {
      "image/png": "[encoded data removed]",
      "text/plain": [
       "<Figure size 648x360 with 1 Axes>"
      ]
     },
     "metadata": {
      "needs_background": "light"
     },
     "output_type": "display_data"
    }
   ],
   "source": [
    "per_month.new_cases.plot(kind='barh')\n",
    "plt.xlabel('Number of cases')\n",
    "plt.title('Total cases per month');"
   ]
  },
  {
   "cell_type": "markdown",
   "metadata": {},
   "source": [
    "Now, we can see in more detailed way that the month of January has the highest recorded cases around 700,000. From it's peak, it goes down to 100,000 in between just a month. "
   ]
  },
  {
   "cell_type": "markdown",
   "metadata": {},
   "source": [
    "## Next is the total death per month"
   ]
  },
  {
   "cell_type": "code",
   "execution_count": 28,
   "metadata": {
    "scrolled": true
   },
   "outputs": [
    {
     "data": {
      "image/png": "[encoded data removed]",
      "text/plain": [
       "<Figure size 648x360 with 1 Axes>"
      ]
     },
     "metadata": {
      "needs_background": "light"
     },
     "output_type": "display_data"
    }
   ],
   "source": [
    "per_month.new_deaths.plot(kind='barh')\n",
    "plt.xlabel('Number of deaths')\n",
    "plt.title('Total deaths per month');"
   ]
  },
  {
   "cell_type": "markdown",
   "metadata": {},
   "source": [
    "Now, we can see that even though the month of January have the highest reported cases, it is the month of March which have the highest reported deaths."
   ]
  },
  {
   "cell_type": "markdown",
   "metadata": {},
   "source": [
    "## Lastly is the total cases per day."
   ]
  },
  {
   "cell_type": "code",
   "execution_count": 29,
   "metadata": {
    "scrolled": false
   },
   "outputs": [],
   "source": [
    "per_day = ph_df.groupby(['weekday']).sum()"
   ]
  },
  {
   "cell_type": "code",
   "execution_count": 30,
   "metadata": {
    "scrolled": true
   },
   "outputs": [
    {
     "data": {
      "image/png": "[encoded data removed]",
      "text/plain": [
       "<Figure size 648x360 with 1 Axes>"
      ]
     },
     "metadata": {
      "needs_background": "light"
     },
     "output_type": "display_data"
    }
   ],
   "source": [
    "per_day.new_cases.plot(kind='barh')\n",
    "plt.xlabel('Number of cases')\n",
    "plt.title('Total cases per day');"
   ]
  },
  {
   "cell_type": "markdown",
   "metadata": {},
   "source": [
    "For this graph, we can see that Saturday have the highest total reported cases and lowest during Tuesdays."
   ]
  },
  {
   "cell_type": "markdown",
   "metadata": {},
   "source": [
    "Let us save and upload our work to Jovian before continuing"
   ]
  },
  {
   "cell_type": "code",
   "execution_count": 31,
   "metadata": {
    "scrolled": true
   },
   "outputs": [],
   "source": [
    "import jovian"
   ]
  },
  {
   "cell_type": "code",
   "execution_count": 32,
   "metadata": {
    "scrolled": true
   },
   "outputs": [
    {
     "data": {
      "application/javascript": [
       "window.require && require([\"base/js/namespace\"],function(Jupyter){Jupyter.notebook.save_checkpoint()})"
      ],
      "text/plain": [
       "<IPython.core.display.Javascript object>"
      ]
     },
     "metadata": {},
     "output_type": "display_data"
    },
    {
     "name": "stdout",
     "output_type": "stream",
     "text": [
      "[jovian] Updating notebook \"chris-ortiz/covid-19-report-in-the-philippines-in-year-2022\" on https://jovian.com\u001b[0m\n",
      "[jovian] Committed successfully! https://jovian.com/chris-ortiz/covid-19-report-in-the-philippines-in-year-2022\u001b[0m\n"
     ]
    },
    {
     "data": {
      "text/plain": [
       "'https://jovian.com/chris-ortiz/covid-19-report-in-the-philippines-in-year-2022'"
      ]
     },
     "execution_count": 32,
     "metadata": {},
     "output_type": "execute_result"
    }
   ],
   "source": [
    "jovian.commit()"
   ]
  },
  {
   "cell_type": "markdown",
   "metadata": {},
   "source": [
    "## Asking and Answering Questions\n",
    "\n",
    "For this part of our analysis, we will ask and answer question base on our analysis to find meaningful insights from it."
   ]
  },
  {
   "cell_type": "markdown",
   "metadata": {},
   "source": [
    "#### Q1: What is the ratio of new cases to new deaths for the year 2022?"
   ]
  },
  {
   "cell_type": "code",
   "execution_count": 67,
   "metadata": {
    "scrolled": true
   },
   "outputs": [
    {
     "data": {
      "text/html": [
       "<div>\n",
       "<style scoped>\n",
       "    .dataframe tbody tr th:only-of-type {\n",
       "        vertical-align: middle;\n",
       "    }\n",
       "\n",
       "    .dataframe tbody tr th {\n",
       "        vertical-align: top;\n",
       "    }\n",
       "\n",
       "    .dataframe thead th {\n",
       "        text-align: right;\n",
       "    }\n",
       "</style>\n",
       "<table border=\"1\" class=\"dataframe\">\n",
       "  <thead>\n",
       "    <tr style=\"text-align: right;\">\n",
       "      <th></th>\n",
       "      <th>total_cases</th>\n",
       "      <th>new_cases</th>\n",
       "      <th>new_cases_smoothed</th>\n",
       "      <th>total_deaths</th>\n",
       "      <th>new_deaths</th>\n",
       "      <th>new_deaths_smoothed</th>\n",
       "      <th>total_cases_per_million</th>\n",
       "      <th>new_cases_per_million</th>\n",
       "      <th>new_cases_smoothed_per_million</th>\n",
       "      <th>total_deaths_per_million</th>\n",
       "      <th>...</th>\n",
       "      <th>life_expectancy</th>\n",
       "      <th>human_development_index</th>\n",
       "      <th>population</th>\n",
       "      <th>excess_mortality_cumulative_absolute</th>\n",
       "      <th>excess_mortality_cumulative</th>\n",
       "      <th>excess_mortality</th>\n",
       "      <th>excess_mortality_cumulative_per_million</th>\n",
       "      <th>month</th>\n",
       "      <th>day</th>\n",
       "      <th>weekday</th>\n",
       "    </tr>\n",
       "    <tr>\n",
       "      <th>year</th>\n",
       "      <th></th>\n",
       "      <th></th>\n",
       "      <th></th>\n",
       "      <th></th>\n",
       "      <th></th>\n",
       "      <th></th>\n",
       "      <th></th>\n",
       "      <th></th>\n",
       "      <th></th>\n",
       "      <th></th>\n",
       "      <th></th>\n",
       "      <th></th>\n",
       "      <th></th>\n",
       "      <th></th>\n",
       "      <th></th>\n",
       "      <th></th>\n",
       "      <th></th>\n",
       "      <th></th>\n",
       "      <th></th>\n",
       "      <th></th>\n",
       "      <th></th>\n",
       "    </tr>\n",
       "  </thead>\n",
       "  <tbody>\n",
       "    <tr>\n",
       "      <th>2022</th>\n",
       "      <td>1.371966e+09</td>\n",
       "      <td>1221098.0</td>\n",
       "      <td>1222819.143</td>\n",
       "      <td>22026506.0</td>\n",
       "      <td>13887.0</td>\n",
       "      <td>14037.152</td>\n",
       "      <td>1.187243e+07</td>\n",
       "      <td>10566.871</td>\n",
       "      <td>10581.771</td>\n",
       "      <td>190608.314</td>\n",
       "      <td>...</td>\n",
       "      <td>25998.95</td>\n",
       "      <td>262.07</td>\n",
       "      <td>4.217904e+10</td>\n",
       "      <td>1447852.5</td>\n",
       "      <td>100.21</td>\n",
       "      <td>11.48</td>\n",
       "      <td>12529.118457</td>\n",
       "      <td>2382</td>\n",
       "      <td>5738</td>\n",
       "      <td>1097</td>\n",
       "    </tr>\n",
       "  </tbody>\n",
       "</table>\n",
       "<p>1 rows × 56 columns</p>\n",
       "</div>"
      ],
      "text/plain": [
       "       total_cases  new_cases  new_cases_smoothed  total_deaths  new_deaths  \\\n",
       "year                                                                          \n",
       "2022  1.371966e+09  1221098.0         1222819.143    22026506.0     13887.0   \n",
       "\n",
       "      new_deaths_smoothed  total_cases_per_million  new_cases_per_million  \\\n",
       "year                                                                        \n",
       "2022            14037.152             1.187243e+07              10566.871   \n",
       "\n",
       "      new_cases_smoothed_per_million  total_deaths_per_million  ...  \\\n",
       "year                                                            ...   \n",
       "2022                       10581.771                190608.314  ...   \n",
       "\n",
       "      life_expectancy  human_development_index    population  \\\n",
       "year                                                           \n",
       "2022         25998.95                   262.07  4.217904e+10   \n",
       "\n",
       "      excess_mortality_cumulative_absolute  excess_mortality_cumulative  \\\n",
       "year                                                                      \n",
       "2022                             1447852.5                       100.21   \n",
       "\n",
       "      excess_mortality  excess_mortality_cumulative_per_million  month   day  \\\n",
       "year                                                                           \n",
       "2022             11.48                             12529.118457   2382  5738   \n",
       "\n",
       "      weekday  \n",
       "year           \n",
       "2022     1097  \n",
       "\n",
       "[1 rows x 56 columns]"
      ]
     },
     "execution_count": 67,
     "metadata": {},
     "output_type": "execute_result"
    }
   ],
   "source": [
    "whole_year = ph_df.groupby(['year']).sum()\n",
    "whole_year"
   ]
  },
  {
   "cell_type": "code",
   "execution_count": 68,
   "metadata": {
    "scrolled": false
   },
   "outputs": [
    {
     "data": {
      "text/plain": [
       "year\n",
       "2022    0.011373\n",
       "dtype: float64"
      ]
     },
     "execution_count": 68,
     "metadata": {},
     "output_type": "execute_result"
    }
   ],
   "source": [
    "year_ratio = whole_year.new_deaths / whole_year.new_cases\n",
    "year_ratio"
   ]
  },
  {
   "cell_type": "markdown",
   "metadata": {},
   "source": [
    "So dividing the total new deaths and total new cases resulted to 0.0113 or 1.13%. This means that for every 100 cases, 1.13 cases result in death. A ratio of 100 to 1.13 deaths is considered to be relatively low, in the sense that it indicates a low proportion of deaths among confirmed COVID-19 cases. However, it is important to note that this ratio is not a hard and fast rule, it's an average and in some cases the ratio could be higher or lower. Factors such as demographics of the affected population, access to healthcare, and the timing of the pandemic can all impact the case fatality rate. Additionally, this ratio can change over time as the pandemic evolves and as medical treatments improve."
   ]
  },
  {
   "cell_type": "markdown",
   "metadata": {},
   "source": [
    "#### Q2: On what part of the year does the Covid-19 cases fall down?"
   ]
  },
  {
   "cell_type": "code",
   "execution_count": 81,
   "metadata": {
    "scrolled": true
   },
   "outputs": [
    {
     "data": {
      "text/plain": [
       "month\n",
       "1     716223.0\n",
       "2     101795.0\n",
       "3      16591.0\n",
       "4       7398.0\n",
       "5       5229.0\n",
       "6      13826.0\n",
       "7      72220.0\n",
       "8     103602.0\n",
       "9      67811.0\n",
       "10     56425.0\n",
       "11     31812.0\n",
       "12     28166.0\n",
       "Name: new_cases, dtype: float64"
      ]
     },
     "execution_count": 81,
     "metadata": {},
     "output_type": "execute_result"
    }
   ],
   "source": [
    "per_month.new_cases"
   ]
  },
  {
   "cell_type": "markdown",
   "metadata": {},
   "source": [
    "We can see that from 716,223 reported cases in January, it falls down by 614,428 at February with only 101,795 reported cases. We can conclude that the increased in testing and vaccination have contribution to it."
   ]
  },
  {
   "cell_type": "markdown",
   "metadata": {},
   "source": [
    "#### Q3: On what month does the cases of covid highest and lowest?"
   ]
  },
  {
   "cell_type": "code",
   "execution_count": 86,
   "metadata": {
    "scrolled": true
   },
   "outputs": [
    {
     "data": {
      "text/plain": [
       "month\n",
       "1     716223.0\n",
       "2     101795.0\n",
       "3      16591.0\n",
       "4       7398.0\n",
       "5       5229.0\n",
       "6      13826.0\n",
       "7      72220.0\n",
       "8     103602.0\n",
       "9      67811.0\n",
       "10     56425.0\n",
       "11     31812.0\n",
       "12     28166.0\n",
       "Name: new_cases, dtype: float64"
      ]
     },
     "execution_count": 86,
     "metadata": {},
     "output_type": "execute_result"
    }
   ],
   "source": [
    "per_month.new_cases"
   ]
  },
  {
   "cell_type": "markdown",
   "metadata": {},
   "source": [
    "We can see that the Covid-19 reaches it's peak on January and reaches it's lowest on May. "
   ]
  },
  {
   "cell_type": "markdown",
   "metadata": {},
   "source": [
    "#### Q4: On what month does the cases of deaths highest and lowest?"
   ]
  },
  {
   "cell_type": "code",
   "execution_count": 88,
   "metadata": {
    "scrolled": true
   },
   "outputs": [
    {
     "data": {
      "text/plain": [
       "month\n",
       "1     2499.0\n",
       "2     2448.0\n",
       "3     2798.0\n",
       "4     1092.0\n",
       "5      120.0\n",
       "6      100.0\n",
       "7      172.0\n",
       "8     1087.0\n",
       "9     1133.0\n",
       "10    1127.0\n",
       "11     567.0\n",
       "12     744.0\n",
       "Name: new_deaths, dtype: float64"
      ]
     },
     "execution_count": 88,
     "metadata": {},
     "output_type": "execute_result"
    }
   ],
   "source": [
    "per_month.new_deaths"
   ]
  },
  {
   "cell_type": "markdown",
   "metadata": {},
   "source": [
    "We can see that the month of March with 2,798 reported deaths have the highest deaths in the whole year while the month of June have lowest with only 100 cases."
   ]
  },
  {
   "cell_type": "markdown",
   "metadata": {},
   "source": [
    "#### Q5: On what day of the week does the Covid cases highest?"
   ]
  },
  {
   "cell_type": "code",
   "execution_count": 93,
   "metadata": {
    "scrolled": true
   },
   "outputs": [
    {
     "data": {
      "text/plain": [
       "weekday\n",
       "0    180788.0\n",
       "1    133754.0\n",
       "2    144031.0\n",
       "3    181456.0\n",
       "4    190375.0\n",
       "5    197404.0\n",
       "6    193290.0\n",
       "Name: new_cases, dtype: float64"
      ]
     },
     "execution_count": 93,
     "metadata": {},
     "output_type": "execute_result"
    }
   ],
   "source": [
    "per_day.new_cases"
   ]
  },
  {
   "cell_type": "markdown",
   "metadata": {},
   "source": [
    "We can see that base on the data, Saturdays have the highest reported cases with a total of 197,404 and lowest during Tuesdays with 133,754."
   ]
  },
  {
   "cell_type": "markdown",
   "metadata": {},
   "source": [
    "Let us save and upload our work to Jovian before continuing."
   ]
  },
  {
   "cell_type": "code",
   "execution_count": 94,
   "metadata": {
    "scrolled": true
   },
   "outputs": [],
   "source": [
    "import jovian"
   ]
  },
  {
   "cell_type": "code",
   "execution_count": 95,
   "metadata": {
    "scrolled": true
   },
   "outputs": [
    {
     "data": {
      "application/javascript": [
       "window.require && require([\"base/js/namespace\"],function(Jupyter){Jupyter.notebook.save_checkpoint()})"
      ],
      "text/plain": [
       "<IPython.core.display.Javascript object>"
      ]
     },
     "metadata": {},
     "output_type": "display_data"
    },
    {
     "name": "stdout",
     "output_type": "stream",
     "text": [
      "[jovian] Updating notebook \"chris-ortiz/covid-19-report-in-the-philippines-in-year-2022\" on https://jovian.com\u001b[0m\n",
      "[jovian] Committed successfully! https://jovian.com/chris-ortiz/covid-19-report-in-the-philippines-in-year-2022\u001b[0m\n"
     ]
    },
    {
     "data": {
      "text/plain": [
       "'https://jovian.com/chris-ortiz/covid-19-report-in-the-philippines-in-year-2022'"
      ]
     },
     "execution_count": 95,
     "metadata": {},
     "output_type": "execute_result"
    }
   ],
   "source": [
    "jovian.commit()"
   ]
  },
  {
   "cell_type": "markdown",
   "metadata": {},
   "source": [
    "## Inferences and Conclusion\n",
    "\n",
    "We see that the compared to year 2021, the cases and deaths is lower than the year 2022. We can conclude that it is possible because of the following: <br><br>\n",
    "Widespread vaccination: As more people are vaccinated, the spread of the virus could be slowed, leading to a decrease in cases.<br><br>\n",
    "Herd immunity: As more people become immune to the virus, either through vaccination or previous infection, the virus may have a harder time spreading, leading to a decrease in cases.<br><br>\n",
    "Continued public health measures: Governments and public health officials may have continued to implement strict public health measures, such as lockdowns and quarantines, which could have helped to slow the spread of the virus.<br><br>\n",
    "Improvements in testing and contact tracing: More efficient testing and contact tracing methods may have helped to identify and isolate cases more effectively, slowing the spread of the virus."
   ]
  },
  {
   "cell_type": "code",
   "execution_count": 96,
   "metadata": {
    "scrolled": true
   },
   "outputs": [],
   "source": [
    "import jovian"
   ]
  },
  {
   "cell_type": "code",
   "execution_count": 97,
   "metadata": {
    "scrolled": true
   },
   "outputs": [
    {
     "data": {
      "application/javascript": [
       "window.require && require([\"base/js/namespace\"],function(Jupyter){Jupyter.notebook.save_checkpoint()})"
      ],
      "text/plain": [
       "<IPython.core.display.Javascript object>"
      ]
     },
     "metadata": {},
     "output_type": "display_data"
    },
    {
     "name": "stdout",
     "output_type": "stream",
     "text": [
      "[jovian] Updating notebook \"chris-ortiz/covid-19-report-in-the-philippines-in-year-2022\" on https://jovian.com\u001b[0m\n",
      "[jovian] Committed successfully! https://jovian.com/chris-ortiz/covid-19-report-in-the-philippines-in-year-2022\u001b[0m\n"
     ]
    },
    {
     "data": {
      "text/plain": [
       "'https://jovian.com/chris-ortiz/covid-19-report-in-the-philippines-in-year-2022'"
      ]
     },
     "execution_count": 97,
     "metadata": {},
     "output_type": "execute_result"
    }
   ],
   "source": [
    "jovian.commit()"
   ]
  },
  {
   "cell_type": "markdown",
   "metadata": {},
   "source": [
    "## References and Future Work\n",
    "<br>\n",
    "<li> Recovery case\n",
    "<li> Vaccination case\n",
    "<li> Hospitalization rate"
   ]
  },
  {
   "cell_type": "code",
   "execution_count": 98,
   "metadata": {
    "scrolled": true
   },
   "outputs": [],
   "source": [
    "import jovian"
   ]
  },
  {
   "cell_type": "code",
   "execution_count": 99,
   "metadata": {
    "scrolled": false
   },
   "outputs": [
    {
     "data": {
      "application/javascript": [
       "window.require && require([\"base/js/namespace\"],function(Jupyter){Jupyter.notebook.save_checkpoint()})"
      ],
      "text/plain": [
       "<IPython.core.display.Javascript object>"
      ]
     },
     "metadata": {},
     "output_type": "display_data"
    },
    {
     "name": "stdout",
     "output_type": "stream",
     "text": [
      "[jovian] Updating notebook \"chris-ortiz/covid-19-report-in-the-philippines-in-year-2022\" on https://jovian.com\u001b[0m\n",
      "[jovian] Uploading additional files...\u001b[0m\n",
      "[jovian] Committed successfully! https://jovian.com/chris-ortiz/covid-19-report-in-the-philippines-in-year-2022\u001b[0m\n"
     ]
    },
    {
     "data": {
      "text/plain": [
       "'https://jovian.com/chris-ortiz/covid-19-report-in-the-philippines-in-year-2022'"
      ]
     },
     "execution_count": 99,
     "metadata": {},
     "output_type": "execute_result"
    }
   ],
   "source": [
    "jovian.commit(files=[\"covid-ph.csv\"])"
   ]
  }
 ],
 "metadata": {
  "kernelspec": {
   "display_name": "Python 3 (ipykernel)",
   "language": "python",
   "name": "python3"
  },
  "language_info": {
   "codemirror_mode": {
    "name": "ipython",
    "version": 3
   },
   "file_extension": ".py",
   "mimetype": "text/x-python",
   "name": "python",
   "nbconvert_exporter": "python",
   "pygments_lexer": "ipython3",
   "version": "3.9.7"
  }
 },
 "nbformat": 4,
 "nbformat_minor": 4
}
